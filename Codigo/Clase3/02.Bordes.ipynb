version https://git-lfs.github.com/spec/v1
oid sha256:2b7d282af788974bbdcb83e2513a36a0ab4b933fef04bd15a27892ea4bcf9c86
size 1175195
