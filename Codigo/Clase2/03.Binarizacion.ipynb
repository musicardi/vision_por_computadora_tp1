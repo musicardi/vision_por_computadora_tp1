version https://git-lfs.github.com/spec/v1
oid sha256:0d67d734cc2369b857f2d72a9d6c44fc70f452b150b928b99deac3989dd2fa2b
size 3560
