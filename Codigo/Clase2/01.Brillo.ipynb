version https://git-lfs.github.com/spec/v1
oid sha256:cd7ef8496dd2a113c1e29c1887c47bfc6df35fb95628977b868cfa8ae61ab4d2
size 9299
