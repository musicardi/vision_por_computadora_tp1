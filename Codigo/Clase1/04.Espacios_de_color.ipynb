version https://git-lfs.github.com/spec/v1
oid sha256:fa4c8ad19163214198df1572379f96c0b46c716424c60935ff76c1aab456b87f
size 13375
